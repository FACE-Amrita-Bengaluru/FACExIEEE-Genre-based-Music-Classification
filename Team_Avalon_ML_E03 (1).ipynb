{
  "nbformat": 4,
  "nbformat_minor": 0,
  "metadata": {
    "colab": {
      "name": "Team Avalon ML E03.ipynb",
      "provenance": []
    },
    "kernelspec": {
      "name": "python3",
      "display_name": "Python 3"
    }
  },
  "cells": [
    {
      "cell_type": "code",
      "metadata": {
        "id": "uZwUeVSN4eaq"
      },
      "source": [
        "!pip install python_speech_features\r\n",
        "from python_speech_features import mfcc\r\n",
        "import scipy.io.wavfile as wav\r\n",
        "import numpy as np\r\n",
        "\r\n",
        "from tempfile import TemporaryFile\r\n",
        "import os\r\n",
        "import pickle\r\n",
        "import random \r\n",
        "import operator\r\n",
        "\r\n",
        "import math\r\n",
        "import numpy as np"
      ],
      "execution_count": null,
      "outputs": []
    },
    {
      "cell_type": "code",
      "metadata": {
        "id": "NTw1m-DD4kRU"
      },
      "source": [
        "def getNeighbors(train_Set, instance, j):\r\n",
        "    distances = []\r\n",
        "    for x in range (len(train_Set)):\r\n",
        "        dist = distance(train_Set[x], instance, j )+ distance(instance, train_Set[x], j)\r\n",
        "        distances.append((train_Set[x][2], dist))\r\n",
        "    distances.sort(key=operator.itemgetter(1))\r\n",
        "    neighbors = []\r\n",
        "    for x in range(j):\r\n",
        "        neighbors.append(distances[x][0])\r\n",
        "    return neighbors"
      ],
      "execution_count": null,
      "outputs": []
    },
    {
      "cell_type": "code",
      "metadata": {
        "id": "NF56sjwL4xTc"
      },
      "source": [
        "def nearestClass(neighbors):\r\n",
        "    classVote = {}\r\n",
        "\r\n",
        "    for x in range(len(neighbors)):\r\n",
        "        response = neighbors[x]\r\n",
        "        if response in classVote:\r\n",
        "            classVote[response]+=1 \r\n",
        "        else:\r\n",
        "            classVote[response]=1\r\n",
        "\r\n",
        "    sorter = sorted(classVote.items(), key = operator.itemgetter(1), reverse=True)\r\n",
        "    return sorter[0][0]"
      ],
      "execution_count": null,
      "outputs": []
    },
    {
      "cell_type": "code",
      "metadata": {
        "id": "OZPRlV_L40ls"
      },
      "source": [
        "def getAccuracy(test_Set, predictions):\r\n",
        "    correct = 0 \r\n",
        "    for x in range (len(test_Set)):\r\n",
        "        if test_Set[x][-1]==predictions[x]:\r\n",
        "            correct+=1\r\n",
        "    return 1.0*correct/len(test_Set)"
      ],
      "execution_count": null,
      "outputs": []
    },
    {
      "cell_type": "code",
      "metadata": {
        "id": "Ufb_PtcW47SB"
      },
      "source": [
        "directory = \"/content/drive/MyDrive/genres/\"\r\n",
        "f= open(\"my.dat\" ,'wb')\r\n",
        "i=0\r\n",
        "\r\n",
        "for folder in os.listdir(directory):\r\n",
        "    i+=1\r\n",
        "    if i==11 :\r\n",
        "        break \t\r\n",
        "    for file in os.listdir(directory+folder):\t\r\n",
        "        (rate,sig) = wav.read(directory+folder+\"/\"+file)\r\n",
        "        mfcc_feat = mfcc(sig,rate ,winlen=0.020, appendEnergy = False)\r\n",
        "        covar = np.cov(np.matrix.transpose(mfcc_feat))\r\n",
        "        mean_mat = mfcc_feat.mean(0)\r\n",
        "        feat = (mean_mat , covar , i)\r\n",
        "        pickle.dump(feat , f)\r\n",
        "\r\n",
        "f.close()"
      ],
      "execution_count": null,
      "outputs": []
    },
    {
      "cell_type": "code",
      "metadata": {
        "id": "IMpLPbJL5L6N"
      },
      "source": [
        "dataset = []\r\n",
        "def loadDataset(filename , split , trSet , teSet):\r\n",
        "    with open(\"my.dat\" , 'rb') as f:\r\n",
        "        while True:\r\n",
        "            try:\r\n",
        "                dataset.append(pickle.load(f))\r\n",
        "            except EOFError:\r\n",
        "                f.close()\r\n",
        "                break\t\r\n",
        "\r\n",
        "    for x in range(len(dataset)):\r\n",
        "        if random.random() <split :\t\t\t\r\n",
        "            trSet.append(dataset[x])\r\n",
        "        else:\r\n",
        "            teSet.append(dataset[x])\t\r\n",
        "\r\n",
        "train_Set = []\r\n",
        "test_Set = []\r\n",
        "loadDataset(\"my.dat\" , 0.66, train_Set, test_Set)"
      ],
      "execution_count": null,
      "outputs": []
    },
    {
      "cell_type": "code",
      "metadata": {
        "id": "H2o4HvIz5Tlz"
      },
      "source": [
        "def distance(instance1 , instance2 , j ):\r\n",
        "    distance =0 \r\n",
        "    mm1 = instance1[0] \r\n",
        "    cm1 = instance1[1]\r\n",
        "    mm2 = instance2[0]\r\n",
        "    cm2 = instance2[1]\r\n",
        "    distance = np.trace(np.dot(np.linalg.inv(cm2), cm1)) \r\n",
        "    distance+=(np.dot(np.dot((mm2-mm1).transpose() , np.linalg.inv(cm2)) , mm2-mm1 )) \r\n",
        "    distance+= np.log(np.linalg.det(cm2)) - np.log(np.linalg.det(cm1))\r\n",
        "    distance-= j\r\n",
        "    return distance"
      ],
      "execution_count": null,
      "outputs": []
    },
    {
      "cell_type": "code",
      "metadata": {
        "id": "cl6KcZzU5Wlp"
      },
      "source": [
        "length = len(test_Set)\r\n",
        "predictions = []\r\n",
        "for x in range (length):\r\n",
        "    predictions.append(nearestClass(getNeighbors(train_Set ,test_Set[x] , 5))) \r\n",
        "\r\n",
        "accuracy1 = getAccuracy(test_Set , predictions)\r\n",
        "print(accuracy1)"
      ],
      "execution_count": null,
      "outputs": []
    },
    {
      "cell_type": "code",
      "metadata": {
        "id": "GRCkKKh65a8E"
      },
      "source": [
        "test_dir = \"/content/drive/MyDrive/test set/\"\r\n",
        "# test_file = test_dir + \"1999.wav\"\r\n",
        "test_file = test_dir + \"survesdre.wav\"\r\n",
        "# test_file = test_dir + \"purify.wav\""
      ],
      "execution_count": null,
      "outputs": []
    },
    {
      "cell_type": "code",
      "metadata": {
        "id": "hUNj067v5edI"
      },
      "source": [
        "(rate, sig) = wav.read(test_file)\r\n",
        "mfcc_feat = mfcc(sig, rate, winlen=0.020, appendEnergy=False)\r\n",
        "covar = np.cov(np.matrix.transpose(mfcc_feat))\r\n",
        "mean_mat = mfcc_feat.mean(0)\r\n",
        "feat = (mean_mat, covar, i)"
      ],
      "execution_count": null,
      "outputs": []
    },
    {
      "cell_type": "code",
      "metadata": {
        "id": "P9zpWzcn5joh"
      },
      "source": [
        "from collections import defaultdict\r\n",
        "results = defaultdict(int)\r\n",
        "\r\n",
        "directory = \"/content/drive/MyDrive/genres/\"\r\n",
        "i = 1\r\n",
        "for folder in os.listdir(directory):\r\n",
        "    results[i] = folder\r\n",
        "    i += 1"
      ],
      "execution_count": null,
      "outputs": []
    },
    {
      "cell_type": "code",
      "metadata": {
        "id": "nJFAqNyF5muX"
      },
      "source": [
        "pred = nearestClass(getNeighbors(dataset, feat, 5))\r\n",
        "print(results[pred])"
      ],
      "execution_count": null,
      "outputs": []
    }
  ]
}